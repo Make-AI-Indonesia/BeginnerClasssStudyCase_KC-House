{
 "cells": [
  {
   "cell_type": "markdown",
   "metadata": {},
   "source": [
    "<img src=\"https://github.com/BenedictusAryo/documents_assets/raw/master/New%20CourseMap/exercise_assets/make_ai%20x%20Binuscenter.png\" alt=\"make-ai_logo\" height=\"200\" width=\"600\" align=\"left\">\n",
    "\n",
    "<span><br><br><br><br><br></span>\n",
    "\n",
    "___\n",
    "**Name:**\n",
    "\n",
    "**Batch/Company name:**\n",
    "___\n",
    "Online property companies offer valuations of houses using machine learning techniques. The aim of this report is to predict the house sales in King County, Washington State, USA using Multiple Linear Regression (MLR). The dataset consisted of historic data of houses sold between May 2014 to May 2015. We will predict the sales of houses in King County with an accuracy of at least 75-80% and understand which factors are responsible for higher property value - $650K and above.”\n",
    "\n",
    "The dataset consists of house prices from King County an area in the US State of Washington, this data also covers Seattle. The dataset was obtained from Kaggle*. This data was published/released under CC0*: Public Domain. Unfortunately, the user has not indicated the source of the data. Please find the citation and database description in the Glossary and Bibliography. The dataset consisted of 21 variables and 21613 observations.\n",
    "\n"
   ]
  },
  {
   "cell_type": "markdown",
   "metadata": {},
   "source": [
    "|Columns | Meaning|\n",
    "|----|:---|\n",
    "|**id** | a notation for a house|\n",
    "|**date** | Date house was sold|\n",
    "|**price** | Price is prediction target|\n",
    "|**bedrooms** | Number of Bedrooms/House|\n",
    "|**bathrooms** | Number of bathrooms/House|\n",
    "|**sqft_living** | square footage of the home|\n",
    "|**sqft_lot** | square footage of the lot|\n",
    "|**floors** | Total floors (levels) in house|\n",
    "|**waterfront** | House which has a view to a waterfront|\n",
    "|**view** | Has been viewed|\n",
    "|**condition** | How good the condition is ( Overall )|\n",
    "|**grade** | overall grade given to the housing unit, based on King County grading system|\n",
    "|**sqft_above** | square footage of house apart from basement|\n",
    "|**sqft_basement** | square footage of the basement|\n",
    "|**yr_built** | Built Year|\n",
    "|**yr_renovated** | Year when house was renovated|\n",
    "|**zipcode** | zip|\n",
    "|**lat** | Latitude coordinate|\n",
    "|**long** | Longitude coordinate|\n",
    "|**sqft_living15** | Living room area in 2015(implies-- some renovations) This might or might not have affected the lotsize area|\n",
    "|**sqft_lot15** | lotSize area in 2015(implies-- some renovations)|"
   ]
  },
  {
   "cell_type": "markdown",
   "metadata": {},
   "source": [
    "Data is located in folder data `kc_house_data.csv`"
   ]
  },
  {
   "cell_type": "markdown",
   "metadata": {},
   "source": [
    "___\n",
    "# Task\n",
    "## 1. Do Exploratory Data Analysis of the dataset\n",
    "You've given the dataset of `kc_house`, which is consist of 21 variables and 21613 observations. In this steps, you want to know what is happened in the dataset such as what kind of variable used, how is the price distribution, You also want to know initial insight of the dataset. <br>\n",
    "This consist of:\n",
    "* Statistics Exploration\n",
    "* Visualization Insight"
   ]
  },
  {
   "cell_type": "code",
   "execution_count": null,
   "metadata": {},
   "outputs": [],
   "source": []
  },
  {
   "cell_type": "code",
   "execution_count": null,
   "metadata": {},
   "outputs": [],
   "source": []
  },
  {
   "cell_type": "code",
   "execution_count": null,
   "metadata": {},
   "outputs": [],
   "source": []
  },
  {
   "cell_type": "markdown",
   "metadata": {},
   "source": [
    "## 2. Data Preprocessing\n",
    "This dataset is having enormous amount of features, but not every features, correlate with the `Price` prediction, if necessary, preprocessing the Data using `feature engineering` and then use`feature selection` to select only few features that you think can help the price prediction.<br>\n",
    "This step consist of:\n",
    "* Feature Engineering\n",
    "* Feature Selection using Correlation analysis\n",
    "* Train test split"
   ]
  },
  {
   "cell_type": "code",
   "execution_count": null,
   "metadata": {},
   "outputs": [],
   "source": []
  },
  {
   "cell_type": "code",
   "execution_count": null,
   "metadata": {},
   "outputs": [],
   "source": []
  },
  {
   "cell_type": "code",
   "execution_count": null,
   "metadata": {},
   "outputs": [],
   "source": []
  },
  {
   "cell_type": "markdown",
   "metadata": {},
   "source": [
    "## 3. Regression Modelling\n",
    "Since you already split the data now you can use `LinearRegression` from the `sklearn.linear_model` library to train Linear regression model using your `Train data` and then predict the `test data` using your model and save as `prediction`.<br>\n",
    "This step consist of:\n",
    "* Model Definition\n",
    "* Model Training\n",
    "* Predict the Test data"
   ]
  },
  {
   "cell_type": "code",
   "execution_count": null,
   "metadata": {},
   "outputs": [],
   "source": []
  },
  {
   "cell_type": "code",
   "execution_count": null,
   "metadata": {},
   "outputs": [],
   "source": []
  },
  {
   "cell_type": "code",
   "execution_count": null,
   "metadata": {},
   "outputs": [],
   "source": []
  },
  {
   "cell_type": "markdown",
   "metadata": {},
   "source": [
    "## 4. Evaluation\n",
    "You already analyze the data, preprocess and then modelling the data using `LinearRegression` even you already predict the `test data` as `prediction`. Now, its time to evaluate the result of your model. <br>\n",
    "This step consist of\n",
    "* Evaluate the metrics of `prediction` and `y_test` using **r2**, **MAE** and **MSE**\n",
    "* Create Visualization of the models using some of the features you've used\n",
    "* Create Conclusion of All of the steps you've already done"
   ]
  },
  {
   "cell_type": "code",
   "execution_count": null,
   "metadata": {},
   "outputs": [],
   "source": []
  },
  {
   "cell_type": "code",
   "execution_count": null,
   "metadata": {},
   "outputs": [],
   "source": []
  },
  {
   "cell_type": "code",
   "execution_count": null,
   "metadata": {},
   "outputs": [],
   "source": []
  },
  {
   "cell_type": "code",
   "execution_count": null,
   "metadata": {},
   "outputs": [],
   "source": []
  }
 ],
 "metadata": {
  "kernelspec": {
   "display_name": "Python 3",
   "language": "python",
   "name": "python3"
  },
  "language_info": {
   "codemirror_mode": {
    "name": "ipython",
    "version": 3
   },
   "file_extension": ".py",
   "mimetype": "text/x-python",
   "name": "python",
   "nbconvert_exporter": "python",
   "pygments_lexer": "ipython3",
   "version": "3.7.3"
  }
 },
 "nbformat": 4,
 "nbformat_minor": 4
}
